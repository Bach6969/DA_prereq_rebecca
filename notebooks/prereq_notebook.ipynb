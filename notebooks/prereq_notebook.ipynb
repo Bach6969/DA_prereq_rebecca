{
 "cells": [
  {
   "cell_type": "markdown",
   "id": "4f9e6af2",
   "metadata": {},
   "source": [
    "# About Me\n",
    "Hi! I'm Rebecca. I'm excited to learn more about data analysis and improve my coding skills!\n"
   ]
  },
  {
   "cell_type": "code",
   "execution_count": null,
   "id": "6fdea3fb",
   "metadata": {
    "vscode": {
     "languageId": "plaintext"
    }
   },
   "outputs": [],
   "source": [
    "print(\"Hello, world!\")"
   ]
  }
 ],
 "metadata": {
  "language_info": {
   "name": "python"
  }
 },
 "nbformat": 4,
 "nbformat_minor": 5
}
